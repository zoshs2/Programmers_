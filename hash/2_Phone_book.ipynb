{
 "cells": [
  {
   "cell_type": "code",
   "execution_count": 1,
   "metadata": {},
   "outputs": [],
   "source": [
    "# Hash를 이용해보자"
   ]
  },
  {
   "cell_type": "code",
   "execution_count": 3,
   "metadata": {},
   "outputs": [],
   "source": [
    "phone_book = [\"119\",\"97674223\",\"1195524421\",\"123123442\",\"5552332\",\"3523252\",\"979\"]"
   ]
  },
  {
   "cell_type": "code",
   "execution_count": 28,
   "metadata": {},
   "outputs": [],
   "source": [
    "def solution(phone_book):\n",
    "    dic = {}\n",
    "    for phone in phone_book:\n",
    "        for i in range(1, len(phone)): \n",
    "            # range를 range(len(phone))으로 한글자 접두어도 고려하면 채점데이터1/5/6/7/11이 틀림...\n",
    "            # 그런데, range를 range(1, len(phone))으로 두글자 접두어부터 고려하면 채점데이터3/11이 틀림.. \n",
    "            # 어쩌라는 건지... 문제일관성이 부족해 보임.. 점수 깍이고 다른 아이들 풀이좀 봐야겠음..\n",
    "\n",
    "            if hash(phone[:i+1]) not in dic:\n",
    "                # hash(phone[:i+1])가 이미 dic에 있는 \"key값\"이라면 'in연산자'를 통해 True를 반환시킬 수 있음\n",
    "                dic[hash(phone[:i+1])] = phone[:i+1]\n",
    "            else:\n",
    "                return False\n",
    "            \n",
    "    return True"
   ]
  },
  {
   "cell_type": "code",
   "execution_count": 47,
   "metadata": {},
   "outputs": [],
   "source": [
    "# 다른 이들의 풀이 \n",
    "# Example 1.\n",
    "def solution_1(phone_book):\n",
    "    # 숫자 string을 sorted하면, 그냥 맨 앞자리 크기로 비교해나가면서 sort한다.\n",
    "    # 예를 들어, [\"9769\",\"976555\"]를 sorted()한다면, 9-7-6까진 선두를 가릴 수 없다가,  그 다음 5 vs. 9에서 5가 더 작으므로\n",
    "    # [\"976555\",\"9769\"]로 sort된다.\n",
    "    phone_book = sorted(phone_book)  \n",
    "    # 따라서 zip(phonebook, phonebook[1:])으로 인접한 두 개씩 꺼내와서\n",
    "    # 그 둘을 str.startswtih메소드로 검토해주면 된다.\n",
    "    # (str.startswith메소드는 문자열이 '(주어진)특정 문자'로 시작하는지의 '여부'를 알려준다)\n",
    "    for p1, p2 in zip(phone_book, phone_book[1:]):\n",
    "        if p2.startswith(p1):\n",
    "            return False\n",
    "    \n",
    "    return True\n",
    "\n"
   ]
  },
  {
   "cell_type": "markdown",
   "metadata": {},
   "source": [
    "## __startswith()메소드를 진짜 잘 쓴 듯... 굿;; <br>~그렇지만 아직까지도 나의 코드의 반례를 못 찾겠음~.__\n",
    "## 문제점을 찾았음! 문제를 잘못 이해했음.\n",
    "## __한 번호 전부__가 다른 번호의 접두어야 함\n",
    "## 즉, \"112\"가 \"1134543\"의 앞에 \"11\"로 같다고 접두어가 아님."
   ]
  },
  {
   "cell_type": "code",
   "execution_count": 15,
   "metadata": {},
   "outputs": [
    {
     "data": {
      "text/plain": [
       "False"
      ]
     },
     "execution_count": 15,
     "metadata": {},
     "output_type": "execute_result"
    }
   ],
   "source": [
    "# 문제를 다시 이해하고 우선 해쉬없이 풀어봄. O(N^2) complexity\n",
    "def solution(phonebook):\n",
    "    temp = []\n",
    "    for phone in phonebook:\n",
    "        temp.append(int(phone))\n",
    "    temp = sorted(temp)\n",
    "    \n",
    "    for i, num in enumerate(temp):\n",
    "        phonebook[i] = str(num)\n",
    "    \n",
    "    for idx, uni_1 in enumerate(phonebook[:-1]):\n",
    "        for uni_2 in phonebook[idx+1:]:\n",
    "            if uni_2.startswith(uni_1):\n",
    "                return False\n",
    "        \n",
    "    return True\n",
    "solution(phone_book)\n",
    "# 결과 : 실행테스트 3/3 & 채점테스트 13/13 통과!"
   ]
  },
  {
   "cell_type": "code",
   "execution_count": null,
   "metadata": {},
   "outputs": [],
   "source": []
  },
  {
   "cell_type": "code",
   "execution_count": 45,
   "metadata": {},
   "outputs": [],
   "source": [
    "phone_book = sorted(phone_book)"
   ]
  },
  {
   "cell_type": "code",
   "execution_count": 46,
   "metadata": {},
   "outputs": [
    {
     "name": "stdout",
     "output_type": "stream",
     "text": [
      "[('119', '1195524421'), ('1195524421', '123123442'), ('123123442', '3523252'), ('3523252', '5552332'), ('5552332', '97674223'), ('97674223', '979')]\n",
      "p2 :  1195524421\n",
      "p1 :  119\n",
      "p2 :  123123442\n",
      "p1 :  1195524421\n",
      "p2 :  3523252\n",
      "p1 :  123123442\n",
      "p2 :  5552332\n",
      "p1 :  3523252\n",
      "p2 :  97674223\n",
      "p1 :  5552332\n",
      "p2 :  979\n",
      "p1 :  97674223\n"
     ]
    }
   ],
   "source": [
    "print(list(zip(phone_book, phone_book[1:])))\n",
    "for p1, p2 in zip(phone_book, phone_book[1:]):\n",
    "    print(\"p2 : \", p2)\n",
    "    print(\"p1 : \", p1)"
   ]
  },
  {
   "cell_type": "code",
   "execution_count": 16,
   "metadata": {},
   "outputs": [
    {
     "data": {
      "text/plain": [
       "'1'"
      ]
     },
     "execution_count": 16,
     "metadata": {},
     "output_type": "execute_result"
    }
   ],
   "source": [
    "phone_book[0][0]"
   ]
  },
  {
   "cell_type": "code",
   "execution_count": 4,
   "metadata": {},
   "outputs": [],
   "source": [
    "test_dict = {123123:\"있어\"}"
   ]
  },
  {
   "cell_type": "code",
   "execution_count": 25,
   "metadata": {},
   "outputs": [
    {
     "data": {
      "text/plain": [
       "False"
      ]
     },
     "execution_count": 25,
     "metadata": {},
     "output_type": "execute_result"
    }
   ],
   "source": [
    "\"있어\" in test_dict"
   ]
  },
  {
   "cell_type": "code",
   "execution_count": null,
   "metadata": {},
   "outputs": [],
   "source": []
  },
  {
   "cell_type": "code",
   "execution_count": 1,
   "metadata": {},
   "outputs": [],
   "source": [
    "# 오늘은 경영 빅데이터 공부하는 날!"
   ]
  },
  {
   "cell_type": "code",
   "execution_count": 2,
   "metadata": {},
   "outputs": [],
   "source": [
    "# 헤이헤이헤이"
   ]
  },
  {
   "cell_type": "code",
   "execution_count": 1,
   "metadata": {},
   "outputs": [],
   "source": [
    "# 오늘은 경영 빅데이터 분석사 공부하는 날!! \n",
    "# 2주앞으로 다가온 시험이기에 코딩연습은 잠시 쉬도록 하자 ㅜ !!"
   ]
  },
  {
   "cell_type": "code",
   "execution_count": null,
   "metadata": {},
   "outputs": [],
   "source": []
  }
 ],
 "metadata": {
  "kernelspec": {
   "display_name": "Python [conda env:ds1]",
   "language": "python",
   "name": "conda-env-ds1-py"
  },
  "language_info": {
   "codemirror_mode": {
    "name": "ipython",
    "version": 3
   },
   "file_extension": ".py",
   "mimetype": "text/x-python",
   "name": "python",
   "nbconvert_exporter": "python",
   "pygments_lexer": "ipython3",
   "version": "3.7.9"
  }
 },
 "nbformat": 4,
 "nbformat_minor": 4
}
