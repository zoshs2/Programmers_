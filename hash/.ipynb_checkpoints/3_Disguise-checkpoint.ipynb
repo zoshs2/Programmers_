{
 "cells": [
  {
   "cell_type": "code",
   "execution_count": 2,
   "metadata": {
    "collapsed": true,
    "jupyter": {
     "outputs_hidden": true
    }
   },
   "outputs": [
    {
     "data": {
      "text/plain": [
       "\"\\n< 문제 설명 >\\n스파이들은 매일 다른 옷을 조합하여 입어 자신을 위장합니다.\\n예를 들어 스파이가 가진 옷이 아래와 같고 오늘 스파이가 동그란 안경, 긴 코트, 파란색 티셔츠를 입었다면 \\n다음날은 청바지를 추가로 입거나 동그란 안경 대신 검정 선글라스를 착용하거나 해야 합니다.\\n\\n[종류 - 이름]\\n얼굴 - 동그란안경/검정 선글라스\\n상의 - 파란색 티셔츠\\n하의 - 청바지\\n겉옷 - 긴 코트\\n\\n스파이가 가진 의상들이 담긴 2차원 배열 clothes가 주어질 때 \\n서로 다른 옷의 조합의 수를 return 하도록 solution 함수를 작성해주세요.\\n\\n< 제한사항 >\\n1. clothes의 각 행은 [의상의 이름, 의상의 종류]로 이루어져 있습니다.\\n2. 스파이가 가진 의상의 수는 1개 이상 30개 이하입니다.\\n3. 같은 이름을 가진 의상은 존재하지 않습니다.\\n4. clothes의 모든 원소는 문자열로 이루어져 있습니다.\\n5. 모든 문자열의 길이는 1 이상 20 이하인 자연수이고 알파벳 소문자 또는 '_' 로만 이루어져 있습니다.\\n6. 스파이는 하루에 최소 한 개의 의상은 입습니다.\\n\\n< 입출력 예 >\\n[[yellow_hat, headgear], [blue_sunglasses, eyewear], [green_turban, headgear]]  / 5\\n[[crow_mask, face], [blue_sunglasses, face], [smoky_makeup, face]]  / 3\\n\\n< 입출력 예 설명 >\\n예제 #1\\nheadgear에 해당하는 의상이 yellow_hat, green_turban이고 eyewear에 해당하는 의상이 \\nblue_sunglasses이므로 아래와 같이 5개의 조합이 가능합니다.\\n1. yellow_hat\\n2. blue_sunglasses\\n3. green_turban\\n4. yellow_hat + blue_sunglasses\\n5. green_turban + blue_sunglasses\\n\\n예제 #2\\nface에 해당하는 의상이 crow_mask, blue_sunglasses, smoky_makeup이므로 \\n아래와 같이 3개의 조합이 가능합니다.\\n1. crow_mask\\n2. blue_sunglasses\\n3. smoky_makeup\\n\""
      ]
     },
     "execution_count": 2,
     "metadata": {},
     "output_type": "execute_result"
    }
   ],
   "source": [
    "# Disguise (위장)\n",
    "'''\n",
    "< 문제 설명 >\n",
    "스파이들은 매일 다른 옷을 조합하여 입어 자신을 위장합니다.\n",
    "예를 들어 스파이가 가진 옷이 아래와 같고 오늘 스파이가 동그란 안경, 긴 코트, 파란색 티셔츠를 입었다면 \n",
    "다음날은 청바지를 추가로 입거나 동그란 안경 대신 검정 선글라스를 착용하거나 해야 합니다.\n",
    "\n",
    "[종류 - 이름]\n",
    "얼굴 - 동그란안경/검정 선글라스\n",
    "상의 - 파란색 티셔츠\n",
    "하의 - 청바지\n",
    "겉옷 - 긴 코트\n",
    "\n",
    "스파이가 가진 의상들이 담긴 2차원 배열 clothes가 주어질 때 \n",
    "서로 다른 옷의 조합의 수를 return 하도록 solution 함수를 작성해주세요.\n",
    "\n",
    "< 제한사항 >\n",
    "1. clothes의 각 행은 [의상의 이름, 의상의 종류]로 이루어져 있습니다.\n",
    "2. 스파이가 가진 의상의 수는 1개 이상 30개 이하입니다.\n",
    "3. 같은 이름을 가진 의상은 존재하지 않습니다.\n",
    "4. clothes의 모든 원소는 문자열로 이루어져 있습니다.\n",
    "5. 모든 문자열의 길이는 1 이상 20 이하인 자연수이고 알파벳 소문자 또는 '_' 로만 이루어져 있습니다.\n",
    "6. 스파이는 하루에 최소 한 개의 의상은 입습니다.\n",
    "\n",
    "< 입출력 예 >\n",
    "[[yellow_hat, headgear], [blue_sunglasses, eyewear], [green_turban, headgear]]  / 5\n",
    "[[crow_mask, face], [blue_sunglasses, face], [smoky_makeup, face]]  / 3\n",
    "\n",
    "< 입출력 예 설명 >\n",
    "예제 #1\n",
    "headgear에 해당하는 의상이 yellow_hat, green_turban이고 eyewear에 해당하는 의상이 \n",
    "blue_sunglasses이므로 아래와 같이 5개의 조합이 가능합니다.\n",
    "1. yellow_hat\n",
    "2. blue_sunglasses\n",
    "3. green_turban\n",
    "4. yellow_hat + blue_sunglasses\n",
    "5. green_turban + blue_sunglasses\n",
    "\n",
    "예제 #2\n",
    "face에 해당하는 의상이 crow_mask, blue_sunglasses, smoky_makeup이므로 \n",
    "아래와 같이 3개의 조합이 가능합니다.\n",
    "1. crow_mask\n",
    "2. blue_sunglasses\n",
    "3. smoky_makeup\n",
    "'''"
   ]
  },
  {
   "cell_type": "code",
   "execution_count": 8,
   "metadata": {},
   "outputs": [],
   "source": [
    "def solution(clothes):\n",
    "    cnt = 0\n",
    "    temp = []\n",
    "    dic = {}\n",
    "    for i, cate in enumerate(clothes):\n",
    "        temp.append(cate[1])\n",
    "        if cate[1] in dic:\n",
    "            dic[cate[1]+f\"_{i}\"] = cate[0]\n",
    "        else:\n",
    "            dic[cate[1]] = cate[0]\n",
    "    print(dic)\n",
    "    answer = 0\n",
    "    return answer"
   ]
  },
  {
   "cell_type": "code",
   "execution_count": 12,
   "metadata": {},
   "outputs": [],
   "source": [
    "# 정훈쓰 풀이\n",
    "def solution_1(clothes):\n",
    "    cnt = 0\n",
    "    temp = []\n",
    "    dic = {}\n",
    "    for i, (wear, cate) in enumerate(clothes):\n",
    "        if dic.get(cate, False):\n",
    "            dic[cate] += [wear]\n",
    "        else:\n",
    "            dic[cate] = [None, wear]\n",
    "    answer = 1\n",
    "    for i in dic:\n",
    "        answer*=len(dic[i])\n",
    "    \n",
    "    return answer-1"
   ]
  },
  {
   "cell_type": "code",
   "execution_count": 13,
   "metadata": {},
   "outputs": [],
   "source": [
    "clothes = [[\"yellow_hat\", \"headgear\"], [\"blue_sunglasses\", \"eyewear\"], [\"green_turban\", \"headgear\"]]"
   ]
  },
  {
   "cell_type": "code",
   "execution_count": 14,
   "metadata": {},
   "outputs": [
    {
     "name": "stdout",
     "output_type": "stream",
     "text": [
      "{'headgear': ['yellow_hat', 'green_turban'], 'eyewear': ['blue_sunglasses']}\n"
     ]
    },
    {
     "data": {
      "text/plain": [
       "0"
      ]
     },
     "execution_count": 14,
     "metadata": {},
     "output_type": "execute_result"
    }
   ],
   "source": [
    "solution(clothes)"
   ]
  },
  {
   "cell_type": "code",
   "execution_count": 84,
   "metadata": {},
   "outputs": [],
   "source": [
    "def solution(genres, plays):\n",
    "    temp = []\n",
    "    dic = {}\n",
    "    for gen, play in zip(genres,plays):\n",
    "        if dic.get(gen, False):\n",
    "            dic[gen] += [play]\n",
    "        else:\n",
    "            dic[gen] = [play]\n",
    "    print(dic)\n",
    "    for gen in dic:\n",
    "        dic[gen] = sum(dic[gen])\n",
    "        \n",
    "    print(max(dic.items()))\n",
    "    \n",
    "    return "
   ]
  },
  {
   "cell_type": "code",
   "execution_count": 91,
   "metadata": {},
   "outputs": [],
   "source": [
    "genre = [\"classic\", \"pop\", \"classic\", \"classic\", \"pop\"]\n",
    "play = [500, 600, 150, 800, 2500]"
   ]
  },
  {
   "cell_type": "code",
   "execution_count": 100,
   "metadata": {},
   "outputs": [
    {
     "name": "stdout",
     "output_type": "stream",
     "text": [
      "[('pop', 3100), ('classic', 1450)] {'classic': [(3, 800), (0, 500)], 'pop': [(4, 2500), (1, 600)]}\n"
     ]
    },
    {
     "data": {
      "text/plain": [
       "[4, 1, 3, 0]"
      ]
     },
     "execution_count": 100,
     "metadata": {},
     "output_type": "execute_result"
    }
   ],
   "source": [
    "solution(genre, play)"
   ]
  },
  {
   "cell_type": "code",
   "execution_count": null,
   "metadata": {},
   "outputs": [],
   "source": []
  },
  {
   "cell_type": "code",
   "execution_count": 99,
   "metadata": {},
   "outputs": [],
   "source": [
    "def solution(genre, plays):\n",
    "    answer = []\n",
    "    pool = []\n",
    "    gen = {}\n",
    "    popu = {}\n",
    "    for i, (g, p) in enumerate(zip(genre, plays)):\n",
    "        pool.append((i,g,p))\n",
    "        if gen.get(g,False):\n",
    "            gen[g].append((i,p))\n",
    "            popu[g]+= p\n",
    "        else:\n",
    "            gen[g]  = [(i,p)]\n",
    "            popu[g] = p\n",
    "    tot = list(popu.items())\n",
    "    tot.sort(key = lambda x: x[1],reverse=True)\n",
    "    top2 = {}\n",
    "    for g in gen:\n",
    "        top2[g] = sorted(gen[g], key = lambda x:x[1],reverse=True)[:2]\n",
    "    print(tot,top2)\n",
    "    for g, _ in tot:\n",
    "        answer += list(map(lambda x:x[0], top2[g]))\n",
    "    return answer"
   ]
  },
  {
   "cell_type": "code",
   "execution_count": 101,
   "metadata": {},
   "outputs": [],
   "source": [
    "import numpy as np"
   ]
  },
  {
   "cell_type": "code",
   "execution_count": null,
   "metadata": {},
   "outputs": [],
   "source": []
  },
  {
   "cell_type": "code",
   "execution_count": 54,
   "metadata": {},
   "outputs": [
    {
     "data": {
      "text/plain": [
       "[2500, 800, 600, 500, 150]"
      ]
     },
     "execution_count": 54,
     "metadata": {},
     "output_type": "execute_result"
    }
   ],
   "source": [
    "sorted(play, reverse=True)"
   ]
  },
  {
   "cell_type": "code",
   "execution_count": null,
   "metadata": {},
   "outputs": [],
   "source": []
  }
 ],
 "metadata": {
  "kernelspec": {
   "display_name": "Python [conda env:ds1]",
   "language": "python",
   "name": "conda-env-ds1-py"
  },
  "language_info": {
   "codemirror_mode": {
    "name": "ipython",
    "version": 3
   },
   "file_extension": ".py",
   "mimetype": "text/x-python",
   "name": "python",
   "nbconvert_exporter": "python",
   "pygments_lexer": "ipython3",
   "version": "3.7.9"
  }
 },
 "nbformat": 4,
 "nbformat_minor": 4
}
