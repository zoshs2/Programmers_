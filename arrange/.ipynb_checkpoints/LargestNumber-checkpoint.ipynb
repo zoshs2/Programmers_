{
 "cells": [
  {
   "cell_type": "markdown",
   "metadata": {},
   "source": [
    "# 가장 큰 수 (The largest Number)\n",
    "__< 문제 설명 >__<br>\n",
    "0 또는 양의 정수가 주어졌을 때, 정수를 이어 붙여 만들 수 있는 가장 큰 수를 알아내 주세요.\n",
    "예를 들어, 주어진 정수가 [6, 10, 2]라면 [6102, 6210, 1062, 1026, 2610, 2106]를 만들 수 있고, 이중 가장 큰 수는 6210입니다.\n",
    "0 또는 양의 정수가 담긴 배열 numbers가 매개변수로 주어질 때, 순서를 재배치하여 만들 수 있는 가장 큰 수를 문자열로 바꾸어 return 하도록 solution 함수를 작성해주세요.<br>\n",
    "\n",
    "__< 제한 사항 >__<br>\n",
    "- numbers의 길이는 1 이상 100,000 이하입니다.\n",
    "- numbers의 원소는 0 이상 1,000 이하입니다.\n",
    "- 정답이 너무 클 수 있으니 문자열로 바꾸어 return 합니다.<br>\n",
    "\n",
    "__< 입출력 예 >__<br>\n",
    "[6, 10, 2] -> \"6210\"<br>\n",
    "[3, 30, 34, 5, 9] -> \"9534330\""
   ]
  },
  {
   "cell_type": "code",
   "execution_count": 1,
   "metadata": {},
   "outputs": [],
   "source": [
    "# https://ryulurala.tistory.com/51"
   ]
  },
  {
   "cell_type": "code",
   "execution_count": 3,
   "metadata": {},
   "outputs": [],
   "source": [
    "def solution(numbers):\n",
    "    numbers = list(map(lambda x:x*4,list(map(str, numbers))))\n",
    "    numbers = sorted(numbers, reverse=True)\n",
    "    for i,n in enumerate(numbers):\n",
    "        numbers[i] = n[:int(len(n)/4)] \n",
    "    return str(int(\"\".join(numbers)))"
   ]
  },
  {
   "cell_type": "code",
   "execution_count": 1,
   "metadata": {},
   "outputs": [
    {
     "data": {
      "text/plain": [
       "'\\nC++ 방식\\n#include <string>\\n#include <vector>\\n#include <algorithm>\\nusing namespace std;\\n\\nstring solution(vector<int> numbers) {\\n    string answer = \"\";\\n    vector<string> v;\\n    if(*max_element(numbers.begin(), numbers.end()) == 0) return answer+=\\'0\\';\\n    for(auto e: numbers) v.push_back(to_string(e)+to_string(e)+to_string(e));\\n    sort(v.rbegin(), v.rend());\\n    for(auto e: v) answer+=e.substr(0,e.length()/3);\\n    \\n    return answer;\\n}\\n'"
      ]
     },
     "execution_count": 1,
     "metadata": {},
     "output_type": "execute_result"
    }
   ],
   "source": [
    "'''\n",
    "C++ 방식\n",
    "#include <string>\n",
    "#include <vector>\n",
    "#include <algorithm>\n",
    "using namespace std;\n",
    "\n",
    "string solution(vector<int> numbers) {\n",
    "    string answer = \"\";\n",
    "    vector<string> v;\n",
    "    if(*max_element(numbers.begin(), numbers.end()) == 0) return answer+='0';\n",
    "    for(auto e: numbers) v.push_back(to_string(e)+to_string(e)+to_string(e));\n",
    "    sort(v.rbegin(), v.rend());\n",
    "    for(auto e: v) answer+=e.substr(0,e.length()/3);\n",
    "    \n",
    "    return answer;\n",
    "}\n",
    "'''"
   ]
  },
  {
   "cell_type": "code",
   "execution_count": 1,
   "metadata": {},
   "outputs": [],
   "source": [
    "## 오늘은 경영 빅데이터 공부하는날!! D-10!!!!"
   ]
  },
  {
   "cell_type": "code",
   "execution_count": 1,
   "metadata": {},
   "outputs": [],
   "source": [
    "## 오늘은 경영 빅데이터 공부하는날!! D-9!!!!!"
   ]
  },
  {
   "cell_type": "code",
   "execution_count": null,
   "metadata": {},
   "outputs": [],
   "source": []
  }
 ],
 "metadata": {
  "kernelspec": {
   "display_name": "Python [conda env:ds1]",
   "language": "python",
   "name": "conda-env-ds1-py"
  },
  "language_info": {
   "codemirror_mode": {
    "name": "ipython",
    "version": 3
   },
   "file_extension": ".py",
   "mimetype": "text/x-python",
   "name": "python",
   "nbconvert_exporter": "python",
   "pygments_lexer": "ipython3",
   "version": "3.7.9"
  }
 },
 "nbformat": 4,
 "nbformat_minor": 4
}
